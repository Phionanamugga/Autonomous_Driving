{
 "cells": [
  {
   "cell_type": "code",
   "execution_count": null,
   "id": "a4c6537f",
   "metadata": {
    "vscode": {
     "languageId": "plaintext"
    }
   },
   "outputs": [],
   "source": [
    "Problem Statement: End-to-End Autonomous Driving \n",
    "Context\n",
    "The advancement of autonomous vehicles promises to revolutionize transportation by enhancing safety, efficiency, and accessibility. However, developing a reliable autonomous driving system requires integrating complex subsystems for perception, planning, and control, all while ensuring real-time performance and robustness in dynamic environments.\n",
    "Problem\n",
    "The primary challenge is to design and implement an end-to-end pipeline for autonomous driving that enables a vehicle to navigate safely from a starting point to a destination in a simulated urban environment. The system must:\n",
    "\n",
    "Accurately perceive the environment using sensor data (e.g., camera and LiDAR) to detect objects and obstacles.\n",
    "Plan a safe and efficient path, accounting for static and dynamic obstacles while adhering to traffic rules.\n",
    "Execute precise vehicle control to follow the planned path, maintaining stability and passenger comfort.\n",
    "Operate in real-time with minimal latency to respond to changing conditions.\n",
    "\n",
    "Objectives\n",
    "\n",
    "Develop a modular pipeline that integrates sensor data acquisition, perception, path planning, and vehicle control.\n",
    "Ensure the system can detect and classify objects (e.g., vehicles, pedestrians) with high accuracy using camera-based object detection.\n",
    "Identify obstacles in 3D space using LiDAR data to enhance environmental understanding.\n",
    "Generate a collision-free path that aligns with a global route and adapts to local obstacles.\n",
    "Implement a control mechanism to smoothly execute the planned path with appropriate speed and steering.\n",
    "Validate the pipeline in a simulated environment (e.g., CARLA) to demonstrate functionality and robustness.\n",
    "\n",
    "Constraints\n",
    "\n",
    "The pipeline must process sensor data and generate control commands within a 100ms cycle to ensure real-time performance.\n",
    "The system should operate within the computational limits of a standard GPU-enabled platform (e.g., NVIDIA RTX 3080).\n",
    "The solution must prioritize safety by avoiding collisions and adhering to speed limits (e.g., 30 km/h in urban settings).\n",
    "The pipeline should be developed using open-source tools and libraries (e.g., Python, OpenCV, YOLOv5, Open3D) to ensure reproducibility.\n",
    "\n",
    "Success Criteria\n",
    "\n",
    "The vehicle successfully navigates a predefined route in a simulated urban environment without collisions.\n",
    "Object detection achieves at least 90% precision and recall for critical classes (e.g., vehicles, pedestrians).\n",
    "The system maintains a maximum deviation of 0.5 meters from the planned path during navigation.\n",
    "Control commands ensure smooth operation with acceleration/deceleration within ±2 m/s² for passenger comfort.\n",
    "The pipeline operates reliably for at least 10 minutes of continuous driving in varied simulated conditions (e.g., traffic, obstacles).\n",
    "\n",
    "Scope\n",
    "This problem focuses on a simulated environment to demonstrate core autonomous driving capabilities. Real-world deployment considerations, such as hardware redundancy, regulatory compliance, and extreme weather handling, are out of scope but noted for future extensions."
   ]
  },
  {
   "cell_type": "markdown",
   "id": "b8ddc15d",
   "metadata": {},
   "source": []
  }
 ],
 "metadata": {
  "language_info": {
   "name": "python"
  }
 },
 "nbformat": 4,
 "nbformat_minor": 5
}
